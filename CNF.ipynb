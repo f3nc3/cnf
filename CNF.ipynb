{
  "nbformat": 4,
  "nbformat_minor": 0,
  "metadata": {
    "colab": {
      "provenance": []
    },
    "kernelspec": {
      "name": "python3",
      "display_name": "Python 3"
    },
    "language_info": {
      "name": "python"
    }
  },
  "cells": [
    {
      "cell_type": "code",
      "source": [
        "import pandas as pd\n",
        "import numpy as np\n",
        "\n",
        "data = {\n",
        "    'users': [1, 2, 3, 4, 5, 6],\n",
        "    '1': [1, None, 2, None, None, 1],\n",
        "    '2': [None, None, 4, 2, None, None],\n",
        "    '3': [3, 5, None, 4, 4, 3],\n",
        "    '4': [None, 4, 1, None, 3, None],\n",
        "    '5': [None, None, 2, 5, 4, 3],\n",
        "    '6': [5, None, None, None, 2, None],\n",
        "    '7': [None, 4, 3, None, None, None],\n",
        "    '8': [None, None, None, 4, None, 2],\n",
        "    '9': [5, None, 4, None, None, None],\n",
        "    '10': [None, 2, 3, None, None, None],\n",
        "    '11': [4, 1, 5, 2, 2, 4],\n",
        "    '12': [None, 3, None, None, 5, None]\n",
        "}\n",
        "\n",
        "df = pd.DataFrame(data)\n",
        "print(\"Original Matrix:\\n\", df.to_string())\n",
        "\n",
        "df_centered = df.copy()\n",
        "\n",
        "cols_to_center = df_centered.columns[1:]\n",
        "\n",
        "row_avg = df_centered[cols_to_center].mean(axis=1)\n",
        "\n",
        "for index, row in df_centered.iterrows():\n",
        "    non_empty_values = row.dropna()  # Exclude NaN values\n",
        "    avg = row_avg[index]\n",
        "    df_centered.loc[index, non_empty_values.index] -= avg\n",
        "\n",
        "df_centered.fillna(0, inplace=True)\n",
        "\n",
        "df_centered['row_avg'] = row_avg\n",
        "\n",
        "def cosine_similarity(a, b):\n",
        "    dot_product = np.dot(a, b)\n",
        "    norm_a = np.linalg.norm(a)\n",
        "    norm_b = np.linalg.norm(b)\n",
        "    if norm_a == 0 or norm_b == 0:\n",
        "        return 0\n",
        "    return dot_product / (norm_a * norm_b)\n",
        "similarities = []\n",
        "first_row = df_centered.iloc[0, 1:-1]\n",
        "for i in range(1, len(df_centered)):  # Start from index 1 to exclude the first row\n",
        "    a = first_row\n",
        "    b = df_centered.iloc[i, 1:-1]\n",
        "    similarities.append(cosine_similarity(a, b))\n",
        "df_centered['Similarities'] = [np.nan] + similarities\n",
        "\n",
        "print(\"\\nUpdated Matrix with Row Similarities with First Row:\")\n",
        "print(df_centered.to_string())\n",
        "positive_similarities_indices = [i for i, sim in enumerate(similarities, start=1) if sim > 0]\n",
        "s_1j_positive = [similarities[i-1] for i in positive_similarities_indices]\n",
        "r_j5_values = df.iloc[positive_similarities_indices, 5].dropna()\n",
        "numerator = sum(s * r for s, r in zip(s_1j_positive, r_j5_values))\n",
        "r_15 = numerator / sum(s_1j_positive)\n",
        "print(\"\\nValue of the element at (row 1, column 5):\", r_15)"
      ],
      "metadata": {
        "id": "kE5E6Z8yJrSb",
        "colab": {
          "base_uri": "https://localhost:8080/"
        },
        "outputId": "9b56c61f-c415-46fe-cfc2-25747bb7b969"
      },
      "execution_count": 63,
      "outputs": [
        {
          "output_type": "stream",
          "name": "stdout",
          "text": [
            "Original Matrix:\n",
            "    users    1    2    3    4    5    6    7    8    9   10  11   12\n",
            "0      1  1.0  NaN  3.0  NaN  NaN  5.0  NaN  NaN  5.0  NaN   4  NaN\n",
            "1      2  NaN  NaN  5.0  4.0  NaN  NaN  4.0  NaN  NaN  2.0   1  3.0\n",
            "2      3  2.0  4.0  NaN  1.0  2.0  NaN  3.0  NaN  4.0  3.0   5  NaN\n",
            "3      4  NaN  2.0  4.0  NaN  5.0  NaN  NaN  4.0  NaN  NaN   2  NaN\n",
            "4      5  NaN  NaN  4.0  3.0  4.0  2.0  NaN  NaN  NaN  NaN   2  5.0\n",
            "5      6  1.0  NaN  3.0  NaN  3.0  NaN  NaN  2.0  NaN  NaN   4  NaN\n",
            "\n",
            "Updated Matrix with Row Similarities with First Row:\n",
            "      users    1    2         3         4         5         6         7    8    9        10        11        12   row_avg  Similarities\n",
            "0 -2.600000 -2.6  0.0 -0.600000  0.000000  0.000000  1.400000  0.000000  0.0  1.4  0.000000  0.400000  0.000000  3.600000           NaN\n",
            "1 -1.166667  0.0  0.0  1.833333  0.833333  0.000000  0.000000  0.833333  0.0  0.0 -1.166667 -2.166667 -0.166667  3.166667     -0.178542\n",
            "2  0.000000 -1.0  1.0  0.000000 -2.000000 -1.000000  0.000000  0.000000  0.0  1.0  0.000000  2.000000  0.000000  3.000000      0.414039\n",
            "3  0.600000  0.0 -1.4  0.600000  0.000000  1.600000  0.000000  0.000000  0.6  0.0  0.000000 -1.400000  0.000000  3.400000     -0.102450\n",
            "4  1.666667  0.0  0.0  0.666667 -0.333333  0.666667 -1.333333  0.000000  0.0  0.0  0.000000 -1.333333  1.666667  3.333333     -0.308957\n",
            "5  3.400000 -1.6  0.0  0.400000  0.000000  0.400000  0.000000  0.000000 -0.6  0.0  0.000000  1.400000  0.000000  2.600000      0.587040\n",
            "\n",
            "Value of the element at (row 1, column 5): 2.586406866934817\n"
          ]
        }
      ]
    },
    {
      "cell_type": "code",
      "source": [],
      "metadata": {
        "id": "kNtb0VTb5Vxh"
      },
      "execution_count": null,
      "outputs": []
    }
  ]
}